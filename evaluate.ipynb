{
 "cells": [
  {
   "cell_type": "code",
   "execution_count": 2,
   "metadata": {},
   "outputs": [
    {
     "name": "stdout",
     "output_type": "stream",
     "text": [
      "Evaluation complete. Metrics saved to results/metrics.txt\n"
     ]
    }
   ],
   "source": [
    "import pandas as pd\n",
    "from sklearn.metrics import accuracy_score, precision_score, recall_score, f1_score\n",
    "\n",
    "try:\n",
    "    # Load the outputs of both algorithms\n",
    "    basic_output = pd.read_csv('results/basic_algorithm_output.csv')\n",
    "    advanced_output = pd.read_csv('results/advanced_algorithm_output.csv')\n",
    "\n",
    "    # Compare the outputs (assuming the same structure and columns)\n",
    "    y_true = basic_output['AI Adoption Classification']\n",
    "    y_pred = advanced_output['AI Adoption Classification']\n",
    "\n",
    "    # Calculate performance metrics\n",
    "    accuracy = accuracy_score(y_true, y_pred)\n",
    "    precision = precision_score(y_true, y_pred, average='weighted')\n",
    "    recall = recall_score(y_true, y_pred, average='weighted')\n",
    "    f1 = f1_score(y_true, y_pred, average='weighted')\n",
    "\n",
    "    # Save evaluation metrics\n",
    "    metrics = {\n",
    "        'Accuracy': accuracy,\n",
    "        'Precision': precision,\n",
    "        'Recall': recall,\n",
    "        'F1 Score': f1\n",
    "    }\n",
    "\n",
    "    with open('results/metrics.txt', 'w') as f:\n",
    "        for metric, value in metrics.items():\n",
    "            f.write(f'{metric}: {value:.4f}\\n')\n",
    "\n",
    "    print('Evaluation complete. Metrics saved to results/metrics.txt')\n",
    "\n",
    "except FileNotFoundError as e:\n",
    "    print(f\"Error: {e}. Please ensure both result files exist in the 'results' directory.\")"
   ]
  }
 ],
 "metadata": {
  "kernelspec": {
   "display_name": "Python 3",
   "language": "python",
   "name": "python3"
  },
  "language_info": {
   "codemirror_mode": {
    "name": "ipython",
    "version": 3
   },
   "file_extension": ".py",
   "mimetype": "text/x-python",
   "name": "python",
   "nbconvert_exporter": "python",
   "pygments_lexer": "ipython3",
   "version": "3.13.0"
  }
 },
 "nbformat": 4,
 "nbformat_minor": 2
}

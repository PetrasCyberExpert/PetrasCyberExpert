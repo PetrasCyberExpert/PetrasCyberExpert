{
 "cells": [
  {
   "cell_type": "markdown",
   "metadata": {},
   "source": [
    "This code loads a CSV dataset into a Pandas DataFrame, converts specified columns to numeric types (handling errors), and classifies AI adoption based on defined criteria using a custom function. The results are then saved to a new CSV file, indicating the classification of AI adoption."
   ]
  },
  {
   "cell_type": "code",
   "execution_count": null,
   "metadata": {},
   "outputs": [
    {
     "name": "stdout",
     "output_type": "stream",
     "text": [
      "Based on your input, the AI adoption classification is: Low AI Adoption\n"
     ]
    }
   ],
   "source": [
    "import pandas as pd\n",
    "#Load the dataset\n",
    "data = pd.read_csv('Al.csv')\n",
    "# convert column to numeric , handle any non numeric values to NaN\n",
    "data['AI Adoption (%)'] = pd.to_numeric(data['AI Adoption (%)'], errors='coerce')\n",
    "data['Expected Increase in Employee Productivity Due to AI (%)'] = pd.to_numeric(data['Expected Increase in Employee Productivity Due to AI (%)'], errors='coerce')\n",
    "data['Net Job Loss in the US'] = pd.to_numeric(data['Net Job Loss in the US'], errors='coerce')\n",
    "\n",
    "# Advanced rule-based conditions with multiple factors\n",
    "def advanced_ai_classification(row):\n",
    "    if row['AI Adoption (%)'] > 60 and row['Expected Increase in Employee Productivity Due to AI (%)'] > 15:\n",
    "        return 'Strong AI Adoption with High Productivity'\n",
    "    elif row['AI Adoption (%)'] < 30 and row['Net Job Loss in the US'] < 0:\n",
    "        return 'Low Adoption with Positive Job Impact'\n",
    "    else:\n",
    "        return 'Moderate AI Adoption'\n",
    "\n",
    "# Apply rule to dataset\n",
    "data['AI Adoption Classification'] = data.apply(advanced_ai_classification, axis=1)\n",
    "\n",
    "# Save output to file\n",
    "data.to_csv('results/basic_algorithm_output.csv', index=False)\n",
    "\n",
    "# Prompt user for an AI adoption percentage\n",
    "user_adoption_percentage =int(input(\"Enter the AI adoption percentage: \"))\n",
    "\n",
    "# Classify the user-inputted adoption percentage\n",
    "if user_adoption_percentage > 60:\n",
    "    user_classification = \"Strong AI Adoption\"\n",
    "elif user_adoption_percentage < 30:\n",
    "    user_classification = \"Low AI Adoption\"\n",
    "else:\n",
    "    user_classification = \"Moderate AI Adoption\"\n",
    "\n",
    "print(f\"Based on your input, the AI adoption classification is: {user_classification}\")\n"
   ]
  },
  {
   "cell_type": "code",
   "execution_count": null,
   "metadata": {},
   "outputs": [],
   "source": []
  }
 ],
 "metadata": {
  "kernelspec": {
   "display_name": "Python 3",
   "language": "python",
   "name": "python3"
  },
  "language_info": {
   "codemirror_mode": {
    "name": "ipython",
    "version": 3
   },
   "file_extension": ".py",
   "mimetype": "text/x-python",
   "name": "python",
   "nbconvert_exporter": "python",
   "pygments_lexer": "ipython3",
   "version": "3.13.0"
  }
 },
 "nbformat": 4,
 "nbformat_minor": 2
}

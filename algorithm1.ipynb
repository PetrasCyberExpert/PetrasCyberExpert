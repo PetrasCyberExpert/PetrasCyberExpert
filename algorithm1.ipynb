{
 "cells": [
  {
   "cell_type": "markdown",
   "metadata": {},
   "source": [
    " here we are going to create a dataset and implement two rule-based Al algorithms for comparative analyses. the project structure includes files for dataset management algorithms implementation, and performance evaluation.\n",
    "Instructions\n",
    "1. Dataset creation:\n",
    "#We create Al.csv file with columns like Al_adoption, job impact,etc. relevant to my analysis.\n",
    "2. Algorithm files:\n",
    " #We create two rule-based Al algorithms, one for each of the two scenarios. Each algorithm file.\n",
    " \n",
    "3. Evaluation:\n",
    " #evaluate.py: compare algorithms output using performance metrics."
   ]
  },
  {
   "cell_type": "code",
   "execution_count": null,
   "metadata": {},
   "outputs": [],
   "source": [
    "import pandas as pd\n",
    "import os\n",
    "\n",
    "# Read the dataset\n",
    "df = pd.read_csv('Al.csv')\n",
    "\n",
    "# Ensure 'AI Adoption (%)' column is numeric, coercing any errors to NaN\n",
    "df['AI Adoption (%)'] = pd.to_numeric(df['AI Adoption (%)'], errors='coerce')\n",
    "\n",
    "# Check if the dataset contains the expected column\n",
    "if 'AI Adoption (%)' not in df.columns:\n",
    "    raise ValueError(\"'AI Adoption (%)' column not found in the dataset.\")\n",
    "\n",
    "# Simple rule-based conditions\n",
    "def basic_ai_classification(row):\n",
    "    if pd.isna(row['AI Adoption (%)']):\n",
    "        return 'Unknown'  # Handle missing values\n",
    "    elif row['AI Adoption (%)'] > 50:\n",
    "        return 'High Adoption'\n",
    "    elif row['AI Adoption (%)'] < 30:\n",
    "        return 'Low Adoption'\n",
    "    else:\n",
    "        return 'Moderate Adoption'\n",
    "\n",
    "# Apply rule to the dataset\n",
    "df['AI Adoption Classification'] = df.apply(basic_ai_classification, axis=1)\n",
    "\n",
    "# Save the DataFrame to CSV\n",
    "os.makedirs('results', exist_ok=True)\n",
    "df.to_csv('results/basic_algorithm_output.csv', index=False)\n",
    "\n",
    "# Display the first few rows of the result\n",
    "print(\"Data classified and saved to 'results/basic_algorithm_output.csv'\")\n",
    "print(df.head())\n",
    "\n",
    "# Ask for user input\n",
    "try:\n",
    "    user_percentage = float(input(\"Enter the AI Adoption percentage to classify (e.g., 45.0): \"))\n",
    "    \n",
    "    # Apply classification based on user input\n",
    "    if user_percentage > 50:\n",
    "        classification = 'High Adoption'\n",
    "    elif user_percentage < 40:\n",
    "        classification = 'Low Adoption'\n",
    "    else:\n",
    "        classification = 'Moderate Adoption'\n",
    "    \n",
    "    print(f\"The AI Adoption classification for {user_percentage}% is: {classification}\")\n",
    "\n",
    "except ValueError:\n",
    "    print(\"Invalid input. Please enter a numeric value.\")"
   ]
  },
  {
   "cell_type": "markdown",
   "metadata": {},
   "source": []
  }
 ],
 "metadata": {
  "kernelspec": {
   "display_name": "Python 3",
   "language": "python",
   "name": "python3"
  },
  "language_info": {
   "codemirror_mode": {
    "name": "ipython",
    "version": 3
   },
   "file_extension": ".py",
   "mimetype": "text/x-python",
   "name": "python",
   "nbconvert_exporter": "python",
   "pygments_lexer": "ipython3",
   "version": "3.13.0"
  }
 },
 "nbformat": 4,
 "nbformat_minor": 2
}
